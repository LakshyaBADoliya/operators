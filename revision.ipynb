{
 "cells": [
  {
   "cell_type": "code",
   "execution_count": 1,
   "id": "3d8de505-8157-42e1-a878-983a73a31347",
   "metadata": {},
   "outputs": [
    {
     "name": "stdout",
     "output_type": "stream",
     "text": [
      "140708976976968\n"
     ]
    }
   ],
   "source": [
    "x=10\n",
    "print(id(x))"
   ]
  },
  {
   "cell_type": "code",
   "execution_count": 2,
   "id": "b8aec814-c972-45b9-9733-7dd16dc01ad1",
   "metadata": {},
   "outputs": [
    {
     "name": "stdout",
     "output_type": "stream",
     "text": [
      "140708976976968\n"
     ]
    }
   ],
   "source": [
    "y=x\n",
    "print(id(y))"
   ]
  },
  {
   "cell_type": "code",
   "execution_count": 3,
   "id": "0bf5021e-fd3b-49f7-9efa-50ed60d1bf32",
   "metadata": {},
   "outputs": [],
   "source": [
    "y=69\n"
   ]
  },
  {
   "cell_type": "code",
   "execution_count": 4,
   "id": "46addb6e-72b3-4965-af7c-69af29492add",
   "metadata": {},
   "outputs": [
    {
     "name": "stdout",
     "output_type": "stream",
     "text": [
      "140708976978856\n"
     ]
    }
   ],
   "source": [
    "print(id(y))"
   ]
  },
  {
   "cell_type": "code",
   "execution_count": 5,
   "id": "96694911-6403-4f83-be6f-a22571bff6d2",
   "metadata": {},
   "outputs": [],
   "source": [
    "#immutable "
   ]
  },
  {
   "cell_type": "code",
   "execution_count": 6,
   "id": "b27a1e8d-7d9e-4611-b8ed-7c294c255c30",
   "metadata": {},
   "outputs": [
    {
     "data": {
      "text/plain": [
       "7.5"
      ]
     },
     "execution_count": 6,
     "metadata": {},
     "output_type": "execute_result"
    }
   ],
   "source": [
    "15/2\n"
   ]
  },
  {
   "cell_type": "code",
   "execution_count": 7,
   "id": "3ea0c42a-2047-4c9a-a2ff-75e4281f1665",
   "metadata": {},
   "outputs": [
    {
     "data": {
      "text/plain": [
       "8"
      ]
     },
     "execution_count": 7,
     "metadata": {},
     "output_type": "execute_result"
    }
   ],
   "source": [
    "16//2"
   ]
  },
  {
   "cell_type": "code",
   "execution_count": 8,
   "id": "c473c332-1ba6-4085-a256-e1e9687f9363",
   "metadata": {},
   "outputs": [
    {
     "data": {
      "text/plain": [
       "2097152"
      ]
     },
     "execution_count": 8,
     "metadata": {},
     "output_type": "execute_result"
    }
   ],
   "source": [
    "8**7"
   ]
  },
  {
   "cell_type": "code",
   "execution_count": 9,
   "id": "1818ffd5-0a0e-412b-8ab7-0aec030b7d61",
   "metadata": {},
   "outputs": [
    {
     "data": {
      "text/plain": [
       "56"
      ]
     },
     "execution_count": 9,
     "metadata": {},
     "output_type": "execute_result"
    }
   ],
   "source": [
    "8*7"
   ]
  },
  {
   "cell_type": "code",
   "execution_count": 10,
   "id": "05697d5e-5009-4f78-ab49-559d129b987b",
   "metadata": {},
   "outputs": [
    {
     "data": {
      "text/plain": [
       "-52.0"
      ]
     },
     "execution_count": 10,
     "metadata": {},
     "output_type": "execute_result"
    }
   ],
   "source": [
    "1+3*5/5-8*7"
   ]
  },
  {
   "cell_type": "code",
   "execution_count": 11,
   "id": "a8d47f7c-b7a3-4613-b05b-6e00152f546b",
   "metadata": {},
   "outputs": [
    {
     "data": {
      "text/plain": [
       "1"
      ]
     },
     "execution_count": 11,
     "metadata": {},
     "output_type": "execute_result"
    }
   ],
   "source": [
    "10 % 3"
   ]
  },
  {
   "cell_type": "code",
   "execution_count": 12,
   "id": "da93f1a8-0d37-4c57-960a-d92532bbf64f",
   "metadata": {},
   "outputs": [
    {
     "data": {
      "text/plain": [
       "16"
      ]
     },
     "execution_count": 12,
     "metadata": {},
     "output_type": "execute_result"
    }
   ],
   "source": [
    "2**4\n"
   ]
  },
  {
   "cell_type": "code",
   "execution_count": 13,
   "id": "86957059-6b6f-491a-a850-e0a112ba49af",
   "metadata": {},
   "outputs": [
    {
     "data": {
      "text/plain": [
       "49.5"
      ]
     },
     "execution_count": 13,
     "metadata": {},
     "output_type": "execute_result"
    }
   ],
   "source": [
    "3/2*(2+3**3)+6"
   ]
  },
  {
   "cell_type": "code",
   "execution_count": 14,
   "id": "6cdf12fe-6b8b-4bf1-a308-7bebf5ba0765",
   "metadata": {},
   "outputs": [
    {
     "data": {
      "text/plain": [
       "29"
      ]
     },
     "execution_count": 14,
     "metadata": {},
     "output_type": "execute_result"
    }
   ],
   "source": [
    "(2+3**3)"
   ]
  },
  {
   "cell_type": "code",
   "execution_count": 15,
   "id": "386e5b91-5e44-471a-973a-06a0239d3814",
   "metadata": {},
   "outputs": [
    {
     "data": {
      "text/plain": [
       "1.5"
      ]
     },
     "execution_count": 15,
     "metadata": {},
     "output_type": "execute_result"
    }
   ],
   "source": [
    "3/2"
   ]
  },
  {
   "cell_type": "code",
   "execution_count": 16,
   "id": "443dc8c2-9319-42ec-840b-87448d002e1e",
   "metadata": {},
   "outputs": [
    {
     "data": {
      "text/plain": [
       "16.5"
      ]
     },
     "execution_count": 16,
     "metadata": {},
     "output_type": "execute_result"
    }
   ],
   "source": [
    "1.5*11"
   ]
  },
  {
   "cell_type": "code",
   "execution_count": 17,
   "id": "3c1d2979-024c-4416-a820-46ede131c027",
   "metadata": {},
   "outputs": [
    {
     "data": {
      "text/plain": [
       "False"
      ]
     },
     "execution_count": 17,
     "metadata": {},
     "output_type": "execute_result"
    }
   ],
   "source": [
    "x=9\n",
    "\n",
    "x==19"
   ]
  },
  {
   "cell_type": "code",
   "execution_count": 18,
   "id": "735351fd-a7ed-4ea1-b52f-f1629bfe80c8",
   "metadata": {},
   "outputs": [
    {
     "name": "stdout",
     "output_type": "stream",
     "text": [
      "15\n"
     ]
    }
   ],
   "source": [
    "x=10\n",
    "x=x++5\n",
    "print(x)"
   ]
  },
  {
   "cell_type": "code",
   "execution_count": 19,
   "id": "b70a7cac-e680-4082-93df-664967ff4860",
   "metadata": {},
   "outputs": [
    {
     "data": {
      "text/plain": [
       "8"
      ]
     },
     "execution_count": 19,
     "metadata": {},
     "output_type": "execute_result"
    }
   ],
   "source": [
    "2*4\n",
    " "
   ]
  },
  {
   "cell_type": "code",
   "execution_count": 20,
   "id": "6c5b2e59-e551-4867-a78e-a7ffadcba87b",
   "metadata": {},
   "outputs": [
    {
     "data": {
      "text/plain": [
       "0.5"
      ]
     },
     "execution_count": 20,
     "metadata": {},
     "output_type": "execute_result"
    }
   ],
   "source": [
    "2/4"
   ]
  },
  {
   "cell_type": "code",
   "execution_count": 21,
   "id": "1cce4025-81c1-481a-964c-d871e2e1613a",
   "metadata": {},
   "outputs": [
    {
     "data": {
      "text/plain": [
       "8"
      ]
     },
     "execution_count": 21,
     "metadata": {},
     "output_type": "execute_result"
    }
   ],
   "source": [
    "9&14"
   ]
  },
  {
   "cell_type": "code",
   "execution_count": 22,
   "id": "b812fbb8-33ea-4a07-831a-7f478137989a",
   "metadata": {},
   "outputs": [
    {
     "data": {
      "text/plain": [
       "11"
      ]
     },
     "execution_count": 22,
     "metadata": {},
     "output_type": "execute_result"
    }
   ],
   "source": [
    "2 | 9"
   ]
  },
  {
   "cell_type": "code",
   "execution_count": 24,
   "id": "49493bdf-6cd6-472e-8e32-47f8cb68d33e",
   "metadata": {},
   "outputs": [
    {
     "data": {
      "text/plain": [
       "2"
      ]
     },
     "execution_count": 24,
     "metadata": {},
     "output_type": "execute_result"
    }
   ],
   "source": [
    "18 >>3"
   ]
  },
  {
   "cell_type": "markdown",
   "id": "f13dc770-a9fb-4dd7-956f-ea74dc14c0e6",
   "metadata": {},
   "source": []
  },
  {
   "cell_type": "code",
   "execution_count": null,
   "id": "b71c1b16-f577-4d96-a649-face55884c6c",
   "metadata": {},
   "outputs": [],
   "source": []
  }
 ],
 "metadata": {
  "kernelspec": {
   "display_name": "Python 3 (ipykernel)",
   "language": "python",
   "name": "python3"
  },
  "language_info": {
   "codemirror_mode": {
    "name": "ipython",
    "version": 3
   },
   "file_extension": ".py",
   "mimetype": "text/x-python",
   "name": "python",
   "nbconvert_exporter": "python",
   "pygments_lexer": "ipython3",
   "version": "3.11.4"
  }
 },
 "nbformat": 4,
 "nbformat_minor": 5
}
